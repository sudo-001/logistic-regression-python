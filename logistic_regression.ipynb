{
 "cells": [
  {
   "cell_type": "code",
   "execution_count": 3,
   "id": "31e7f991-2345-4076-9ed5-7cebd7b9cfff",
   "metadata": {},
   "outputs": [],
   "source": [
    "import numpy as np\n"
   ]
  },
  {
   "cell_type": "code",
   "execution_count": 17,
   "id": "adf4f9fd-7eef-4702-8636-72cad57b6908",
   "metadata": {},
   "outputs": [],
   "source": [
    " def get_dataset():\n",
    "    \"\"\"\n",
    "        Method used to generate the dataset\n",
    "    \"\"\"\n",
    "    # Number of row per class\n",
    "    row_per_class = 5\n",
    "    \n",
    "    # Generate rows\n",
    "    sick = np.random.randn(row_per_class, 2) + np.array([-2, -2])\n",
    "    healthy = np.random.randn(row_per_class, 2) + np.array([2, 2])\n",
    "\n",
    "    features = np.vstack([sick, healthy])\n",
    "    targets = np.concatenate((np.zeros(row_per_class), np.zeros(row_per_class) + 1))\n",
    "\n",
    "    return features, targets"
   ]
  },
  {
   "cell_type": "code",
   "execution_count": 18,
   "id": "1903a543-0441-4dfc-b9a5-d86a3843d50a",
   "metadata": {},
   "outputs": [],
   "source": [
    "def init_variables():\n",
    "    \"\"\"\n",
    "        Init model variables (weights, bias)\n",
    "    \"\"\"\n",
    "    weights = np.random.normal(size=2)\n",
    "    bias = 0\n",
    "    return weights, bias"
   ]
  },
  {
   "cell_type": "code",
   "execution_count": 40,
   "id": "df66c058-3f3a-4635-b809-39943b823c8f",
   "metadata": {},
   "outputs": [],
   "source": [
    "def pre_activation(features, weights, bias):\n",
    "    \"\"\"\n",
    "        Method to compute the pre activation\n",
    "    \"\"\"\n",
    "    return np.dot(features, weights) + bias"
   ]
  },
  {
   "cell_type": "code",
   "execution_count": 27,
   "id": "081b55c2-b8ea-4507-9730-7ad9ee937bc6",
   "metadata": {},
   "outputs": [],
   "source": [
    "def activation(pre_activation_value):\n",
    "    \"\"\"\n",
    "        Method to compute the activation\n",
    "    \"\"\"\n",
    "    return 1  / (1 + np.exp(-pre_activation_value))"
   ]
  },
  {
   "cell_type": "code",
   "execution_count": 43,
   "id": "0573803a-6fc3-4d5b-a5e4-9e2ae86722e5",
   "metadata": {
    "editable": true,
    "slideshow": {
     "slide_type": ""
    },
    "tags": []
   },
   "outputs": [
    {
     "name": "stdout",
     "output_type": "stream",
     "text": [
      "features [[-0.80670275 -0.26438264]\n",
      " [-2.55464288 -4.1581205 ]\n",
      " [-2.09411779 -2.31437003]\n",
      " [-1.12071517 -1.66198246]\n",
      " [-1.04569487 -3.03764268]\n",
      " [ 2.25298438 -0.50280292]\n",
      " [ 0.969523    2.48576967]\n",
      " [ 0.95475008  1.70981404]\n",
      " [ 1.59326255  3.13855235]\n",
      " [ 2.96208163  1.38242393]]\n",
      "targets [0. 0. 0. 0. 0. 1. 1. 1. 1. 1.]\n",
      "Predictions [0.23050907 0.01300925 0.03292536 0.13306404 0.12155671 0.95989635\n",
      " 0.85603821 0.83779142 0.94179891 0.98889947]\n"
     ]
    }
   ],
   "source": [
    "\n",
    "# Main function\n",
    "if __name__ == '__main__':\n",
    "    # Dataset\n",
    "    features, targets = get_dataset()\n",
    "    # Variables\n",
    "    weights, bias = init_variables()\n",
    "\n",
    "    # Compute pre activation\n",
    "    z = pre_activation(features, weights, bias)\n",
    "    print(\"features {}\".format(features))\n",
    "    print(\"targets {}\".format(targets))\n",
    "    # print(weights)\n",
    "    # print(z)\n",
    "\n",
    "    # Compute activation\n",
    "    a = activation(z)\n",
    "    print(\"Predictions {}\".format(a))\n",
    "    pass"
   ]
  }
 ],
 "metadata": {
  "kernelspec": {
   "display_name": "Python 3 (ipykernel)",
   "language": "python",
   "name": "python3"
  },
  "language_info": {
   "codemirror_mode": {
    "name": "ipython",
    "version": 3
   },
   "file_extension": ".py",
   "mimetype": "text/x-python",
   "name": "python",
   "nbconvert_exporter": "python",
   "pygments_lexer": "ipython3",
   "version": "3.10.12"
  },
  "toc": {
   "base_numbering": 0
  }
 },
 "nbformat": 4,
 "nbformat_minor": 5
}
